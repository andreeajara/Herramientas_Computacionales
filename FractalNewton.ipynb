{
 "metadata": {
  "name": "",
  "signature": "sha256:d7cdc478e7b94af4d6893cb3a1580690efb4f6c12a6f796c7712917646248740"
 },
 "nbformat": 3,
 "nbformat_minor": 0,
 "worksheets": [
  {
   "cells": [
    {
     "cell_type": "heading",
     "level": 2,
     "metadata": {},
     "source": [
      "Codigo que encuentra el Fractal de Newton para $x^{3} - 1$ "
     ]
    },
    {
     "cell_type": "code",
     "collapsed": false,
     "input": [
      "%pylab inline"
     ],
     "language": "python",
     "metadata": {},
     "outputs": [
      {
       "output_type": "stream",
       "stream": "stdout",
       "text": [
        "Populating the interactive namespace from numpy and matplotlib\n"
       ]
      }
     ],
     "prompt_number": 1
    },
    {
     "cell_type": "markdown",
     "metadata": {},
     "source": [
      "Se define una funcion que retorne $x^{3} - 1$"
     ]
    },
    {
     "cell_type": "code",
     "collapsed": false,
     "input": [
      "def fun(x):\n",
      "    return x**3. - 1. "
     ],
     "language": "python",
     "metadata": {},
     "outputs": [],
     "prompt_number": 2
    },
    {
     "cell_type": "markdown",
     "metadata": {},
     "source": [
      "Se define una segunda funcion que retorne la derivada de $x^{3} - 1$: $3x^{2}$"
     ]
    },
    {
     "cell_type": "code",
     "collapsed": false,
     "input": [
      "def fun2(x):\n",
      "    return 3.*x**2."
     ],
     "language": "python",
     "metadata": {},
     "outputs": [],
     "prompt_number": 3
    },
    {
     "cell_type": "markdown",
     "metadata": {},
     "source": [
      "Se define una funcion (NR) que aplique el metodo de Newton-Raphson para hallar las raices de $x^{3} - 1$. fun3(x)\n",
      "permite que la funcion NR(x) aplique el metodo de Newton-Raphson solo diez veces."
     ]
    },
    {
     "cell_type": "code",
     "collapsed": false,
     "input": [
      "def NR(x):\n",
      "    return x-fun(x)/fun2(x)\n",
      "    \n",
      "def fun3(x):\n",
      "    for i in range (10):\n",
      "        x=NR(x)\n",
      "    return x\n",
      "    \n",
      "print fun3(x)"
     ],
     "language": "python",
     "metadata": {},
     "outputs": [
      {
       "output_type": "stream",
       "stream": "stdout",
       "text": [
        "1.8028938853\n"
       ]
      }
     ],
     "prompt_number": 24
    },
    {
     "cell_type": "markdown",
     "metadata": {},
     "source": [
      "dis1(x), dis2(x) y dis3(x) hallan la distancia del valor arrojado por fun3(x) a cada una de las raices del polinomio.\n",
      "cer(x) compara las distancias halladas con las funciones anteriores y retorna 1, 2 o 3 dependiendo de cual distancia\n",
      "sea menor."
     ]
    },
    {
     "cell_type": "code",
     "collapsed": false,
     "input": [
      "def dis1(x):\n",
      "    x=fun3(x)\n",
      "    return abs(1.-x)\n",
      "\n",
      "def dis2(x):\n",
      "    x=fun3(x)\n",
      "    return abs((-0.5 + 0.8660254j)-x)\n",
      "\n",
      "def dis3(x):\n",
      "    x=fun3(x)\n",
      "    return abs((-0.5 - 0.8660254j)-x)\n",
      "\n",
      "def cer(x):\n",
      "    if(dis1(x)<= dis2(x) and dis1(x)<=dis3(x)):\n",
      "        return 1.\n",
      "    if(dis2(x)< dis1(x) and dis2(x)<= dis3(x)):\n",
      "        return 2.\n",
      "    if(dis3(x)< dis2(x) and dis3(x)< dis1(x)):\n",
      "        return 3."
     ],
     "language": "python",
     "metadata": {},
     "outputs": [],
     "prompt_number": 14
    },
    {
     "cell_type": "markdown",
     "metadata": {},
     "source": [
      "Se definen dos funciones (real(i), im(j)) para obtener las coordenadas del plano complejo de lado 1.\n",
      "Se creo una matriz de 500x500 que es llenada con 1,2 o 3 dependiendo de a que raiz converge la coordenada del plano\n",
      "definida por la suma de las funciones real(i) e im(j). "
     ]
    },
    {
     "cell_type": "code",
     "collapsed": false,
     "input": [
      "def real(i):\n",
      "    return -1.+(2.*i/499.)\n",
      "def im(j):\n",
      "    return 1.-(2.*j/499.)\n",
      "\n",
      "matriz = zeros((500,500))\n",
      "\n",
      "for i in range (500):\n",
      "    for j in range (500):\n",
      "        matriz[i,j]=cer(real(i)+im(j)*1j)\n",
      "figure()\n",
      "imshow(matriz, interpolation='none')\n",
      "show()"
     ],
     "language": "python",
     "metadata": {},
     "outputs": [
      {
       "metadata": {},
       "output_type": "display_data",
       "png": "[encoded data removed]",
       "text": [
        "<matplotlib.figure.Figure at 0x7f42610e58d0>"
       ]
      }
     ],
     "prompt_number": 15
    },
    {
     "cell_type": "code",
     "collapsed": false,
     "input": [],
     "language": "python",
     "metadata": {},
     "outputs": []
    }
   ],
   "metadata": {}
  }
 ]
}